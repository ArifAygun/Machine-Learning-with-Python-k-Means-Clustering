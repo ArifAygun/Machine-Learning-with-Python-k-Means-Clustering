{
  "cells": [
    {
      "cell_type": "markdown",
      "metadata": {
        "id": "view-in-github",
        "colab_type": "text"
      },
      "source": [
        "<a href=\"https://colab.research.google.com/github/ArifAygun/Machine-Learning-with-Python-k-Means-Clustering/blob/main/AA_linked_k_Means_Clustering_02b.ipynb\" target=\"_parent\"><img src=\"https://colab.research.google.com/assets/colab-badge.svg\" alt=\"Open In Colab\"/></a>"
      ]
    },
    {
      "cell_type": "markdown",
      "metadata": {
        "id": "aRYDLAXZVQU9"
      },
      "source": [
        "# Segmenting Data with k-Means Clustering"
      ]
    },
    {
      "cell_type": "markdown",
      "metadata": {
        "id": "jMvdlSh0VQU_"
      },
      "source": [
        "## Learning Objectives\n",
        "The primary objective of clustering is to group items within a dataset based on similarity. **k-Means Clustering** is one of the most popular and easy to use clustering approaches. With k-Means Clustering, similarity is based on a distance metric known as euclidean distance. By the end of this tutorial, you will have learned: \n",
        "+ How to import, explore and prepare data for k-Means Clustering\n",
        "+ How to segment data using k-Means Clustering\n",
        "+ How to evaluate and visualize clusters\n",
        "+ How to choose an appropriate number of clusters\n",
        "+ How to analyze the results of k-Means Clustering"
      ]
    },
    {
      "cell_type": "markdown",
      "metadata": {
        "id": "4bf0GOIsVQVA"
      },
      "source": [
        "## 1. Collect the Data\n",
        "Let's import and preview it:"
      ]
    },
    {
      "cell_type": "code",
      "execution_count": null,
      "metadata": {
        "id": "RMQThEYkVQVA"
      },
      "outputs": [],
      "source": [
        "#import pandas as pd\n",
        "#customers = pd.read_csv(\"mallcustomers.csv\")"
      ]
    },
    {
      "cell_type": "code",
      "execution_count": 1,
      "metadata": {
        "scrolled": false,
        "colab": {
          "base_uri": "https://localhost:8080/",
          "height": 223
        },
        "id": "1igUDI9wVQVB",
        "outputId": "e8f04255-ffc5-4ac6-e800-cc3b0dc02695"
      },
      "outputs": [
        {
          "output_type": "stream",
          "name": "stdout",
          "text": [
            "Mounted at /content/drive\n"
          ]
        },
        {
          "output_type": "execute_result",
          "data": {
            "text/plain": [
              "   CustomerID  Gender  Age  Income  SpendingScore\n",
              "0           1    Male   19   15000             39\n",
              "1           2    Male   21   15000             81\n",
              "2           3  Female   20   16000              6\n",
              "3           4  Female   23   16000             77\n",
              "4           5  Female   31   17000             40"
            ],
            "text/html": [
              "\n",
              "  <div id=\"df-bbf63d51-5c46-41a1-b495-1bfe78c48c65\">\n",
              "    <div class=\"colab-df-container\">\n",
              "      <div>\n",
              "<style scoped>\n",
              "    .dataframe tbody tr th:only-of-type {\n",
              "        vertical-align: middle;\n",
              "    }\n",
              "\n",
              "    .dataframe tbody tr th {\n",
              "        vertical-align: top;\n",
              "    }\n",
              "\n",
              "    .dataframe thead th {\n",
              "        text-align: right;\n",
              "    }\n",
              "</style>\n",
              "<table border=\"1\" class=\"dataframe\">\n",
              "  <thead>\n",
              "    <tr style=\"text-align: right;\">\n",
              "      <th></th>\n",
              "      <th>CustomerID</th>\n",
              "      <th>Gender</th>\n",
              "      <th>Age</th>\n",
              "      <th>Income</th>\n",
              "      <th>SpendingScore</th>\n",
              "    </tr>\n",
              "  </thead>\n",
              "  <tbody>\n",
              "    <tr>\n",
              "      <th>0</th>\n",
              "      <td>1</td>\n",
              "      <td>Male</td>\n",
              "      <td>19</td>\n",
              "      <td>15000</td>\n",
              "      <td>39</td>\n",
              "    </tr>\n",
              "    <tr>\n",
              "      <th>1</th>\n",
              "      <td>2</td>\n",
              "      <td>Male</td>\n",
              "      <td>21</td>\n",
              "      <td>15000</td>\n",
              "      <td>81</td>\n",
              "    </tr>\n",
              "    <tr>\n",
              "      <th>2</th>\n",
              "      <td>3</td>\n",
              "      <td>Female</td>\n",
              "      <td>20</td>\n",
              "      <td>16000</td>\n",
              "      <td>6</td>\n",
              "    </tr>\n",
              "    <tr>\n",
              "      <th>3</th>\n",
              "      <td>4</td>\n",
              "      <td>Female</td>\n",
              "      <td>23</td>\n",
              "      <td>16000</td>\n",
              "      <td>77</td>\n",
              "    </tr>\n",
              "    <tr>\n",
              "      <th>4</th>\n",
              "      <td>5</td>\n",
              "      <td>Female</td>\n",
              "      <td>31</td>\n",
              "      <td>17000</td>\n",
              "      <td>40</td>\n",
              "    </tr>\n",
              "  </tbody>\n",
              "</table>\n",
              "</div>\n",
              "      <button class=\"colab-df-convert\" onclick=\"convertToInteractive('df-bbf63d51-5c46-41a1-b495-1bfe78c48c65')\"\n",
              "              title=\"Convert this dataframe to an interactive table.\"\n",
              "              style=\"display:none;\">\n",
              "        \n",
              "  <svg xmlns=\"http://www.w3.org/2000/svg\" height=\"24px\"viewBox=\"0 0 24 24\"\n",
              "       width=\"24px\">\n",
              "    <path d=\"M0 0h24v24H0V0z\" fill=\"none\"/>\n",
              "    <path d=\"M18.56 5.44l.94 2.06.94-2.06 2.06-.94-2.06-.94-.94-2.06-.94 2.06-2.06.94zm-11 1L8.5 8.5l.94-2.06 2.06-.94-2.06-.94L8.5 2.5l-.94 2.06-2.06.94zm10 10l.94 2.06.94-2.06 2.06-.94-2.06-.94-.94-2.06-.94 2.06-2.06.94z\"/><path d=\"M17.41 7.96l-1.37-1.37c-.4-.4-.92-.59-1.43-.59-.52 0-1.04.2-1.43.59L10.3 9.45l-7.72 7.72c-.78.78-.78 2.05 0 2.83L4 21.41c.39.39.9.59 1.41.59.51 0 1.02-.2 1.41-.59l7.78-7.78 2.81-2.81c.8-.78.8-2.07 0-2.86zM5.41 20L4 18.59l7.72-7.72 1.47 1.35L5.41 20z\"/>\n",
              "  </svg>\n",
              "      </button>\n",
              "      \n",
              "  <style>\n",
              "    .colab-df-container {\n",
              "      display:flex;\n",
              "      flex-wrap:wrap;\n",
              "      gap: 12px;\n",
              "    }\n",
              "\n",
              "    .colab-df-convert {\n",
              "      background-color: #E8F0FE;\n",
              "      border: none;\n",
              "      border-radius: 50%;\n",
              "      cursor: pointer;\n",
              "      display: none;\n",
              "      fill: #1967D2;\n",
              "      height: 32px;\n",
              "      padding: 0 0 0 0;\n",
              "      width: 32px;\n",
              "    }\n",
              "\n",
              "    .colab-df-convert:hover {\n",
              "      background-color: #E2EBFA;\n",
              "      box-shadow: 0px 1px 2px rgba(60, 64, 67, 0.3), 0px 1px 3px 1px rgba(60, 64, 67, 0.15);\n",
              "      fill: #174EA6;\n",
              "    }\n",
              "\n",
              "    [theme=dark] .colab-df-convert {\n",
              "      background-color: #3B4455;\n",
              "      fill: #D2E3FC;\n",
              "    }\n",
              "\n",
              "    [theme=dark] .colab-df-convert:hover {\n",
              "      background-color: #434B5C;\n",
              "      box-shadow: 0px 1px 3px 1px rgba(0, 0, 0, 0.15);\n",
              "      filter: drop-shadow(0px 1px 2px rgba(0, 0, 0, 0.3));\n",
              "      fill: #FFFFFF;\n",
              "    }\n",
              "  </style>\n",
              "\n",
              "      <script>\n",
              "        const buttonEl =\n",
              "          document.querySelector('#df-bbf63d51-5c46-41a1-b495-1bfe78c48c65 button.colab-df-convert');\n",
              "        buttonEl.style.display =\n",
              "          google.colab.kernel.accessAllowed ? 'block' : 'none';\n",
              "\n",
              "        async function convertToInteractive(key) {\n",
              "          const element = document.querySelector('#df-bbf63d51-5c46-41a1-b495-1bfe78c48c65');\n",
              "          const dataTable =\n",
              "            await google.colab.kernel.invokeFunction('convertToInteractive',\n",
              "                                                     [key], {});\n",
              "          if (!dataTable) return;\n",
              "\n",
              "          const docLinkHtml = 'Like what you see? Visit the ' +\n",
              "            '<a target=\"_blank\" href=https://colab.research.google.com/notebooks/data_table.ipynb>data table notebook</a>'\n",
              "            + ' to learn more about interactive tables.';\n",
              "          element.innerHTML = '';\n",
              "          dataTable['output_type'] = 'display_data';\n",
              "          await google.colab.output.renderOutput(dataTable, element);\n",
              "          const docLink = document.createElement('div');\n",
              "          docLink.innerHTML = docLinkHtml;\n",
              "          element.appendChild(docLink);\n",
              "        }\n",
              "      </script>\n",
              "    </div>\n",
              "  </div>\n",
              "  "
            ]
          },
          "metadata": {},
          "execution_count": 1
        }
      ],
      "source": [
        "from google.colab import drive\n",
        "drive.mount('/content/drive')\n",
        "\n",
        "from numpy import logical_and\n",
        "import pandas as pd\n",
        "import os\n",
        "\n",
        "def file_locator(file_name):\n",
        "  main_dir = os.getcwd()\n",
        "\n",
        "  for dir, folder, files in os.walk(main_dir):\n",
        "    for file in files:\n",
        "      if file == file_name:\n",
        "        file_path = os.path.join(dir,file)\n",
        "  return file_path\n",
        "\n",
        "file_path = file_locator('mallcustomers.csv')\n",
        "customers = pd.read_csv(file_path)\n",
        "customers.head()"
      ]
    },
    {
      "cell_type": "markdown",
      "metadata": {
        "id": "Kwc4pWwWVQVB"
      },
      "source": [
        "## 2. Explore the Data\n",
        "Next, let's get a concise summary of the structure and the values within the dataset:"
      ]
    },
    {
      "cell_type": "code",
      "execution_count": 2,
      "metadata": {
        "scrolled": true,
        "colab": {
          "base_uri": "https://localhost:8080/"
        },
        "id": "dQS47j__VQVB",
        "outputId": "d4b265ba-3686-4916-e06e-8481b27176ec"
      },
      "outputs": [
        {
          "output_type": "stream",
          "name": "stdout",
          "text": [
            "<class 'pandas.core.frame.DataFrame'>\n",
            "RangeIndex: 200 entries, 0 to 199\n",
            "Data columns (total 5 columns):\n",
            " #   Column         Non-Null Count  Dtype \n",
            "---  ------         --------------  ----- \n",
            " 0   CustomerID     200 non-null    int64 \n",
            " 1   Gender         200 non-null    object\n",
            " 2   Age            200 non-null    int64 \n",
            " 3   Income         200 non-null    int64 \n",
            " 4   SpendingScore  200 non-null    int64 \n",
            "dtypes: int64(4), object(1)\n",
            "memory usage: 7.9+ KB\n"
          ]
        }
      ],
      "source": [
        "customers.info()"
      ]
    },
    {
      "cell_type": "code",
      "execution_count": null,
      "metadata": {
        "scrolled": false,
        "id": "2DlFUm2KVQVB"
      },
      "outputs": [],
      "source": [
        "customers.describe(include = 'all').round(2)"
      ]
    },
    {
      "cell_type": "markdown",
      "metadata": {
        "id": "PprLt9A_VQVB"
      },
      "source": [
        "A visual exploration of the dataset can provide us with some additional insight."
      ]
    },
    {
      "cell_type": "code",
      "execution_count": null,
      "metadata": {
        "id": "YKIdZ1rGVQVB"
      },
      "outputs": [],
      "source": [
        "from matplotlib import pyplot as plt\n",
        "import seaborn as sns\n",
        "sns.set_theme()"
      ]
    },
    {
      "cell_type": "code",
      "execution_count": null,
      "metadata": {
        "id": "49xAl6pfVQVC"
      },
      "outputs": [],
      "source": [
        "ax = sns.boxplot(data = customers, \n",
        "                 x = 'Gender', \n",
        "                 y = 'Income', \n",
        "                 palette = 'colorblind')"
      ]
    },
    {
      "cell_type": "code",
      "execution_count": null,
      "metadata": {
        "id": "se28lNv9VQVC"
      },
      "outputs": [],
      "source": [
        "ax = sns.boxplot(data = customers, \n",
        "                 x = 'Gender', \n",
        "                 y = 'Age', \n",
        "                 palette = 'colorblind')"
      ]
    },
    {
      "cell_type": "code",
      "execution_count": null,
      "metadata": {
        "scrolled": true,
        "id": "RnVeh-71VQVC"
      },
      "outputs": [],
      "source": [
        "ax = sns.boxplot(data = customers, \n",
        "                 x = 'Gender', \n",
        "                 y = 'SpendingScore', \n",
        "                 palette = 'colorblind')"
      ]
    },
    {
      "cell_type": "code",
      "execution_count": null,
      "metadata": {
        "scrolled": true,
        "id": "5Pid0GjyVQVC"
      },
      "outputs": [],
      "source": [
        "ax = sns.scatterplot(data = customers, \n",
        "                     x = 'Age', \n",
        "                     y = 'Income',\n",
        "                     s = 150)"
      ]
    },
    {
      "cell_type": "code",
      "execution_count": null,
      "metadata": {
        "scrolled": false,
        "id": "QRNfVSbcVQVD"
      },
      "outputs": [],
      "source": [
        "ax = sns.scatterplot(data = customers, \n",
        "                     x = 'Age', \n",
        "                     y = 'SpendingScore',\n",
        "                     s = 150)"
      ]
    },
    {
      "cell_type": "code",
      "execution_count": null,
      "metadata": {
        "id": "KGIN5MGJVQVD"
      },
      "outputs": [],
      "source": [
        "ax = sns.scatterplot(data = customers, \n",
        "                     x = 'Income', \n",
        "                     y = 'SpendingScore',\n",
        "                     s = 150)"
      ]
    },
    {
      "cell_type": "markdown",
      "metadata": {
        "id": "hYXVnrP2VQVD"
      },
      "source": [
        "## 3. Prepare the Data"
      ]
    },
    {
      "cell_type": "code",
      "execution_count": null,
      "metadata": {
        "scrolled": true,
        "id": "Tky1EP-lVQVD"
      },
      "outputs": [],
      "source": [
        "customers[['Income', 'SpendingScore']].describe().round(2)"
      ]
    },
    {
      "cell_type": "code",
      "execution_count": null,
      "metadata": {
        "id": "2mZ0vGK5VQVD"
      },
      "outputs": [],
      "source": [
        "from sklearn.preprocessing import StandardScaler\n",
        "scaler = StandardScaler()"
      ]
    },
    {
      "cell_type": "code",
      "execution_count": null,
      "metadata": {
        "id": "vFyzVRh4VQVE"
      },
      "outputs": [],
      "source": [
        "customers_scaled = scaler.fit_transform(customers[['Income', 'SpendingScore']])"
      ]
    },
    {
      "cell_type": "code",
      "execution_count": null,
      "metadata": {
        "id": "euHkVvlJVQVE"
      },
      "outputs": [],
      "source": [
        "customers_scaled = pd.DataFrame(customers_scaled, columns = ['Income', 'SpendingScore'])"
      ]
    },
    {
      "cell_type": "code",
      "execution_count": null,
      "metadata": {
        "scrolled": true,
        "id": "6XC0WShmVQVE"
      },
      "outputs": [],
      "source": [
        "customers_scaled.describe().round(2)"
      ]
    },
    {
      "cell_type": "markdown",
      "metadata": {
        "id": "qW-iOGTaVQVE"
      },
      "source": [
        "## 3. Create the Clusters"
      ]
    },
    {
      "cell_type": "code",
      "execution_count": null,
      "metadata": {
        "id": "i02pc8UZVQVE"
      },
      "outputs": [],
      "source": [
        "from sklearn.cluster import KMeans\n",
        "km = KMeans(n_clusters = 3, n_init = 25, random_state = 1234)"
      ]
    },
    {
      "cell_type": "code",
      "execution_count": null,
      "metadata": {
        "id": "E3Ip6buiVQVE"
      },
      "outputs": [],
      "source": [
        "km.fit(customers_scaled)"
      ]
    },
    {
      "cell_type": "code",
      "execution_count": null,
      "metadata": {
        "id": "a8TF_FN7VQVE"
      },
      "outputs": [],
      "source": [
        "km.labels_"
      ]
    },
    {
      "cell_type": "code",
      "execution_count": null,
      "metadata": {
        "id": "hA1_93GKVQVE"
      },
      "outputs": [],
      "source": [
        "km.inertia_"
      ]
    },
    {
      "cell_type": "markdown",
      "metadata": {
        "id": "Xs2s2G1YVQVF"
      },
      "source": [
        "## 4. Evaluate and Visualize the Clusters "
      ]
    },
    {
      "cell_type": "code",
      "execution_count": null,
      "metadata": {
        "id": "5jQYdQ1GVQVF"
      },
      "outputs": [],
      "source": [
        "pd.Series(km.labels_).value_counts().sort_index()"
      ]
    },
    {
      "cell_type": "code",
      "execution_count": null,
      "metadata": {
        "id": "hEReUUIAVQVF"
      },
      "outputs": [],
      "source": [
        "km.cluster_centers_"
      ]
    },
    {
      "cell_type": "code",
      "execution_count": null,
      "metadata": {
        "scrolled": true,
        "id": "vdrUmqCqVQVF"
      },
      "outputs": [],
      "source": [
        "cluster_centers = pd.DataFrame(km.cluster_centers_, \n",
        "                               columns = ['Income', 'SpendingScore'])\n",
        "cluster_centers"
      ]
    },
    {
      "cell_type": "code",
      "execution_count": null,
      "metadata": {
        "id": "FDWeSebxVQVF"
      },
      "outputs": [],
      "source": [
        "# Set the figure size\n",
        "plt.figure(figsize=(10, 8))\n",
        "\n",
        "#Plot the Clusters\n",
        "ax = sns.scatterplot(data = customers_scaled,\n",
        "                     x = 'Income',\n",
        "                     y = 'SpendingScore', \n",
        "                     hue = km.labels_, \n",
        "                     palette = 'colorblind', \n",
        "                     alpha = 0.8, \n",
        "                     s = 150,\n",
        "                     legend = False)\n",
        "\n",
        "#Plot the Centroids\n",
        "ax = sns.scatterplot(data = cluster_centers, \n",
        "                     x = 'Income',\n",
        "                     y = 'SpendingScore', \n",
        "                     hue = cluster_centers.index, \n",
        "                     palette = 'colorblind', \n",
        "                     s = 600,\n",
        "                     marker = 'D',\n",
        "                     ec = 'black', \n",
        "                     legend = False)\n",
        "\n",
        "# Add Centroid Labels\n",
        "for i in range(len(cluster_centers)):\n",
        "               plt.text(x = cluster_centers.Income[i], \n",
        "                        y = cluster_centers.SpendingScore[i],\n",
        "                        s = i, \n",
        "                        horizontalalignment='center',\n",
        "                        verticalalignment='center',\n",
        "                        size = 15,\n",
        "                        weight = 'bold',\n",
        "                        color = 'white')"
      ]
    },
    {
      "cell_type": "markdown",
      "metadata": {
        "id": "lONqMw85VQVF"
      },
      "source": [
        "## 5. Choose the right number of Clusters"
      ]
    },
    {
      "cell_type": "markdown",
      "metadata": {
        "id": "2mYR8mF3VQVF"
      },
      "source": [
        "### The Within Cluster Sum of Squares (WCSS)"
      ]
    },
    {
      "cell_type": "code",
      "execution_count": null,
      "metadata": {
        "id": "ZpzRGis0VQVF"
      },
      "outputs": [],
      "source": [
        "wcss = []\n",
        "for k in range(2, 11):\n",
        "    km = KMeans(n_clusters = k, n_init = 25, random_state = 1234)\n",
        "    km.fit(customers_scaled)\n",
        "    wcss.append(km.inertia_)\n",
        "\n",
        "wcss_series = pd.Series(wcss, index = range(2, 11))\n",
        "\n",
        "plt.figure(figsize=(8, 6))\n",
        "ax = sns.lineplot(y = wcss_series, x = wcss_series.index)\n",
        "ax = sns.scatterplot(y = wcss_series, x = wcss_series.index, s = 150)\n",
        "ax = ax.set(xlabel = 'Number of Clusters (k)', \n",
        "            ylabel = 'Within Cluster Sum of Squares (WCSS)')"
      ]
    },
    {
      "cell_type": "markdown",
      "metadata": {
        "id": "a45OlpNkVQVG"
      },
      "source": [
        "### The Average Silhouette Score"
      ]
    },
    {
      "cell_type": "code",
      "execution_count": null,
      "metadata": {
        "id": "0NB7MOp4VQVG"
      },
      "outputs": [],
      "source": [
        "from sklearn.metrics import silhouette_score\n",
        "\n",
        "silhouette = []\n",
        "for k in range(2, 11):\n",
        "    km = KMeans(n_clusters = k, n_init = 25, random_state = 1234)\n",
        "    km.fit(customers_scaled)\n",
        "    silhouette.append(silhouette_score(customers_scaled, km.labels_))\n",
        "\n",
        "silhouette_series = pd.Series(silhouette, index = range(2, 11))\n",
        "\n",
        "plt.figure(figsize=(8, 6))\n",
        "ax = sns.lineplot(y = silhouette_series, x = silhouette_series.index)\n",
        "ax = sns.scatterplot(y = silhouette_series, x = silhouette_series.index, s = 150)\n",
        "ax = ax.set(xlabel = 'Number of Clusters (k)', \n",
        "            ylabel = 'Average Silhouette Score')"
      ]
    },
    {
      "cell_type": "markdown",
      "metadata": {
        "id": "hm50dlpLVQVG"
      },
      "source": [
        "### The Calinski Harabasz Score"
      ]
    },
    {
      "cell_type": "code",
      "execution_count": null,
      "metadata": {
        "id": "WIo7QwhJVQVG"
      },
      "outputs": [],
      "source": [
        "from sklearn.metrics import calinski_harabasz_score\n",
        "\n",
        "calinski = []\n",
        "for k in range(2, 11):\n",
        "    km = KMeans(n_clusters = k, n_init = 25, random_state = 1234)\n",
        "    km.fit(customers_scaled)\n",
        "    calinski.append(calinski_harabasz_score(customers_scaled, km.labels_))\n",
        "\n",
        "calinski_series = pd.Series(calinski, index = range(2, 11))\n",
        "\n",
        "plt.figure(figsize=(8, 6))\n",
        "ax = sns.lineplot(y = calinski_series, x = calinski_series.index)\n",
        "ax = sns.scatterplot(y = calinski_series, x = calinski_series.index, s = 150)\n",
        "ax = ax.set(xlabel = 'Number of Clusters (k)', \n",
        "            ylabel = 'Calinski Harabasz Score')"
      ]
    },
    {
      "cell_type": "markdown",
      "metadata": {
        "id": "uPOCl96IVQVG"
      },
      "source": [
        "## 6. Analyze and Interpret the Clusters"
      ]
    },
    {
      "cell_type": "code",
      "execution_count": null,
      "metadata": {
        "id": "uowvpmmjVQVG"
      },
      "outputs": [],
      "source": [
        "km = KMeans(n_clusters = 5, n_init = 25, random_state = 1234)\n",
        "km.fit(customers_scaled)"
      ]
    },
    {
      "cell_type": "code",
      "execution_count": null,
      "metadata": {
        "id": "HA9_1NprVQVH"
      },
      "outputs": [],
      "source": [
        "cluster_centers = pd.DataFrame(km.cluster_centers_, columns = ['Income', 'SpendingScore'])"
      ]
    },
    {
      "cell_type": "code",
      "execution_count": null,
      "metadata": {
        "id": "ndicfHMxVQVH"
      },
      "outputs": [],
      "source": [
        "# Set the figure size\n",
        "plt.figure(figsize=(10, 8))\n",
        "\n",
        "#Plot the Clusters\n",
        "ax = sns.scatterplot(data = customers_scaled,\n",
        "                     x = 'Income',\n",
        "                     y = 'SpendingScore', \n",
        "                     hue = km.labels_, \n",
        "                     palette = 'colorblind', \n",
        "                     alpha = 0.8, \n",
        "                     s = 150,\n",
        "                     legend = False)\n",
        "\n",
        "#Plot the Centroids\n",
        "ax = sns.scatterplot(data = cluster_centers, \n",
        "                     x = 'Income',\n",
        "                     y = 'SpendingScore', \n",
        "                     hue = cluster_centers.index, \n",
        "                     palette = 'colorblind', \n",
        "                     s = 600,\n",
        "                     marker = 'D',\n",
        "                     ec = 'black', \n",
        "                     legend = False)\n",
        "\n",
        "\n",
        "# Add Centroid Labels\n",
        "for i in range(len(cluster_centers)):\n",
        "               plt.text(x = cluster_centers.Income[i], \n",
        "                        y = cluster_centers.SpendingScore[i],\n",
        "                        s = i, \n",
        "                        horizontalalignment='center',\n",
        "                        verticalalignment='center',\n",
        "                        size = 15,\n",
        "                        weight = 'bold',\n",
        "                        color = 'white')"
      ]
    },
    {
      "cell_type": "code",
      "execution_count": null,
      "metadata": {
        "scrolled": false,
        "id": "VbPk8l2WVQVH"
      },
      "outputs": [],
      "source": [
        "customers['Cluster'] = km.labels_.tolist()\n",
        "customers.head(10)"
      ]
    },
    {
      "cell_type": "code",
      "execution_count": null,
      "metadata": {
        "id": "-fK3-CPaVQVH"
      },
      "outputs": [],
      "source": [
        "customers = pd.get_dummies(customers, columns = ['Gender'])\n",
        "customers.head(10)"
      ]
    },
    {
      "cell_type": "code",
      "execution_count": null,
      "metadata": {
        "id": "Ss475UNIVQVH"
      },
      "outputs": [],
      "source": [
        "customers.agg({\n",
        "    'Gender_Female': 'mean',\n",
        "    'Gender_Male': 'mean',\n",
        "    'Age': 'median',\n",
        "    'Income': 'median',\n",
        "    'SpendingScore': 'median'}).round(2)"
      ]
    },
    {
      "cell_type": "code",
      "execution_count": null,
      "metadata": {
        "id": "TYOjN1G_VQVI"
      },
      "outputs": [],
      "source": [
        "customers.groupby('Cluster').agg({\n",
        "    'Gender_Female': 'mean',\n",
        "    'Gender_Male': 'mean',\n",
        "    'Age': 'median',\n",
        "    'Income': 'median',\n",
        "    'SpendingScore': 'median'}).round(2)"
      ]
    },
    {
      "cell_type": "markdown",
      "metadata": {
        "id": "tyVVcmjAVQVI"
      },
      "source": [
        "#### What actionable insights can you come up with based on the clustering results?"
      ]
    }
  ],
  "metadata": {
    "kernelspec": {
      "display_name": "Python 3 (ipykernel)",
      "language": "python",
      "name": "python3"
    },
    "language_info": {
      "codemirror_mode": {
        "name": "ipython",
        "version": 3
      },
      "file_extension": ".py",
      "mimetype": "text/x-python",
      "name": "python",
      "nbconvert_exporter": "python",
      "pygments_lexer": "ipython3",
      "version": "3.9.7"
    },
    "colab": {
      "provenance": [],
      "include_colab_link": true
    }
  },
  "nbformat": 4,
  "nbformat_minor": 0
}